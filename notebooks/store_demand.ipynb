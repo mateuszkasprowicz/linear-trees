{
 "cells": [
  {
   "cell_type": "markdown",
   "source": [
    "# Store Item Demand Forecasting Challenge\n"
   ],
   "metadata": {
    "collapsed": false
   },
   "id": "14b3be9413d991c"
  },
  {
   "cell_type": "code",
   "execution_count": 169,
   "outputs": [],
   "source": [
    "import os\n",
    "import random\n",
    "\n",
    "import numpy as np\n",
    "import pandas as pd\n",
    "\n",
    "from sklearn.ensemble import RandomForestRegressor\n",
    "from sktime.split import temporal_train_test_split\n",
    "from sktime.forecasting.compose import make_reduction\n",
    "from sktime.forecasting.base import ForecastingHorizon\n",
    "from sktime.forecasting.compose import ForecastingPipeline\n",
    "from sktime.performance_metrics.forecasting import MeanAbsolutePercentageError\n",
    "from sktime.transformations.series.summarize import WindowSummarizer\n",
    "from sktime.utils.plotting import plot_series\n",
    "\n",
    "from src.constants import RANDOM_STATE"
   ],
   "metadata": {
    "collapsed": false,
    "ExecuteTime": {
     "end_time": "2024-04-10T17:34:54.695193Z",
     "start_time": "2024-04-10T17:34:54.690532Z"
    }
   },
   "id": "68970c1bf8c888e2"
  },
  {
   "cell_type": "code",
   "execution_count": 3,
   "outputs": [],
   "source": [
    "np.random.seed(RANDOM_STATE)\n",
    "os.environ[\"PYTHONHASHSEED\"] = str(RANDOM_STATE)\n",
    "random.seed(RANDOM_STATE)"
   ],
   "metadata": {
    "collapsed": false,
    "ExecuteTime": {
     "end_time": "2024-04-10T16:34:37.278463Z",
     "start_time": "2024-04-10T16:34:37.269856Z"
    }
   },
   "id": "b49f001a4bdad8a0"
  },
  {
   "cell_type": "markdown",
   "source": [
    "## Load data"
   ],
   "metadata": {
    "collapsed": false
   },
   "id": "6304feb82de05528"
  },
  {
   "cell_type": "code",
   "outputs": [],
   "source": [
    "data_raw = pd.read_csv(\"../data/train.csv\")\n",
    "data = data_raw.copy()"
   ],
   "metadata": {
    "collapsed": false,
    "ExecuteTime": {
     "end_time": "2024-04-10T16:56:52.159707Z",
     "start_time": "2024-04-10T16:56:52.035660Z"
    }
   },
   "id": "eceab8ea16f9eb24",
   "execution_count": 116
  },
  {
   "cell_type": "code",
   "outputs": [
    {
     "name": "stdout",
     "output_type": "stream",
     "text": [
      "<class 'pandas.core.frame.DataFrame'>\n",
      "RangeIndex: 913000 entries, 0 to 912999\n",
      "Data columns (total 4 columns):\n",
      " #   Column  Non-Null Count   Dtype \n",
      "---  ------  --------------   ----- \n",
      " 0   date    913000 non-null  object\n",
      " 1   store   913000 non-null  int64 \n",
      " 2   item    913000 non-null  int64 \n",
      " 3   sales   913000 non-null  int64 \n",
      "dtypes: int64(3), object(1)\n",
      "memory usage: 27.9+ MB\n"
     ]
    }
   ],
   "source": [
    "data.info()"
   ],
   "metadata": {
    "collapsed": false,
    "ExecuteTime": {
     "end_time": "2024-04-10T16:56:52.243894Z",
     "start_time": "2024-04-10T16:56:52.237712Z"
    }
   },
   "id": "f858267bd09bd2a6",
   "execution_count": 117
  },
  {
   "cell_type": "code",
   "execution_count": 118,
   "outputs": [],
   "source": [
    "data[\"date\"] = pd.to_datetime(data.date).dt.to_period(freq=\"D\")\n",
    "data = data.set_index([\"store\", \"item\", \"date\"])"
   ],
   "metadata": {
    "collapsed": false,
    "ExecuteTime": {
     "end_time": "2024-04-10T16:56:53.485873Z",
     "start_time": "2024-04-10T16:56:53.427102Z"
    }
   },
   "id": "9a171a654a4098e7"
  },
  {
   "cell_type": "code",
   "outputs": [],
   "source": [
    "y = data"
   ],
   "metadata": {
    "collapsed": false,
    "ExecuteTime": {
     "end_time": "2024-04-10T16:56:54.421278Z",
     "start_time": "2024-04-10T16:56:54.416673Z"
    }
   },
   "id": "db190b9392d02f97",
   "execution_count": 119
  },
  {
   "cell_type": "code",
   "outputs": [
    {
     "data": {
      "text/plain": "                       sales\nstore item date             \n9     16   2015-11-28     40\n5     10   2013-11-04     43\n3     30   2013-09-06     39",
      "text/html": "<div>\n<style scoped>\n    .dataframe tbody tr th:only-of-type {\n        vertical-align: middle;\n    }\n\n    .dataframe tbody tr th {\n        vertical-align: top;\n    }\n\n    .dataframe thead th {\n        text-align: right;\n    }\n</style>\n<table border=\"1\" class=\"dataframe\">\n  <thead>\n    <tr style=\"text-align: right;\">\n      <th></th>\n      <th></th>\n      <th></th>\n      <th>sales</th>\n    </tr>\n    <tr>\n      <th>store</th>\n      <th>item</th>\n      <th>date</th>\n      <th></th>\n    </tr>\n  </thead>\n  <tbody>\n    <tr>\n      <th>9</th>\n      <th>16</th>\n      <th>2015-11-28</th>\n      <td>40</td>\n    </tr>\n    <tr>\n      <th>5</th>\n      <th>10</th>\n      <th>2013-11-04</th>\n      <td>43</td>\n    </tr>\n    <tr>\n      <th>3</th>\n      <th>30</th>\n      <th>2013-09-06</th>\n      <td>39</td>\n    </tr>\n  </tbody>\n</table>\n</div>"
     },
     "execution_count": 206,
     "metadata": {},
     "output_type": "execute_result"
    }
   ],
   "source": [
    "y.sample(3)"
   ],
   "metadata": {
    "collapsed": false,
    "ExecuteTime": {
     "end_time": "2024-04-11T08:21:22.148161Z",
     "start_time": "2024-04-11T08:21:22.124802Z"
    }
   },
   "id": "5d8bce7f4f8c5be1",
   "execution_count": 206
  },
  {
   "cell_type": "code",
   "execution_count": 121,
   "outputs": [],
   "source": [
    "y_train, y_test = temporal_train_test_split(y, test_size=0.3)"
   ],
   "metadata": {
    "collapsed": false,
    "ExecuteTime": {
     "end_time": "2024-04-10T16:57:01.724375Z",
     "start_time": "2024-04-10T16:57:00.566654Z"
    }
   },
   "id": "addf7855c149156c"
  },
  {
   "cell_type": "code",
   "outputs": [],
   "source": [
    "fh_range = pd.date_range(y_test.index.get_level_values(-1).min().to_timestamp(), y_test.index.get_level_values(-1).max().to_timestamp(), freq=\"D\").to_period()\n",
    "fh = ForecastingHorizon(fh_range, is_relative=False, freq=\"D\")"
   ],
   "metadata": {
    "collapsed": false,
    "ExecuteTime": {
     "end_time": "2024-04-10T17:47:33.385286Z",
     "start_time": "2024-04-10T17:47:33.378143Z"
    }
   },
   "id": "b3300d9baa2cf79",
   "execution_count": 203
  },
  {
   "cell_type": "markdown",
   "source": [
    "## Modeling"
   ],
   "metadata": {
    "collapsed": false
   },
   "id": "278c4163556e9eb2"
  },
  {
   "cell_type": "code",
   "outputs": [],
   "source": [
    "kwargs = {\n",
    "    \"lag_feature\": {\n",
    "        \"lag\": [1],\n",
    "        \"mean\": [[1, 3], [3, 6]],\n",
    "        \"std\": [[1, 4]],\n",
    "    }\n",
    "}"
   ],
   "metadata": {
    "collapsed": false,
    "ExecuteTime": {
     "end_time": "2024-04-10T17:05:39.798609Z",
     "start_time": "2024-04-10T17:05:39.789122Z"
    }
   },
   "id": "b069ec7b454e6cb7",
   "execution_count": 125
  },
  {
   "cell_type": "code",
   "outputs": [],
   "source": [
    "regressor = RandomForestRegressor(n_jobs=-1, random_state=RANDOM_STATE)\n",
    "forecaster = make_reduction(\n",
    "    regressor,\n",
    "    strategy=\"recursive\",\n",
    "    window_length=12,\n",
    ")"
   ],
   "metadata": {
    "collapsed": false,
    "ExecuteTime": {
     "end_time": "2024-04-10T17:10:55.529184Z",
     "start_time": "2024-04-10T17:10:55.523969Z"
    }
   },
   "id": "475328011ef19ce7",
   "execution_count": 135
  },
  {
   "cell_type": "code",
   "outputs": [],
   "source": [
    "pipe = ForecastingPipeline(\n",
    "    steps=[\n",
    "        (\"pre-processor\", WindowSummarizer(**kwargs)),\n",
    "        (\"forecaster\", forecaster),\n",
    "    ]\n",
    ")"
   ],
   "metadata": {
    "collapsed": false,
    "ExecuteTime": {
     "end_time": "2024-04-10T17:10:55.734511Z",
     "start_time": "2024-04-10T17:10:55.728707Z"
    }
   },
   "id": "af27407b8402b05a",
   "execution_count": 136
  },
  {
   "cell_type": "code",
   "outputs": [
    {
     "data": {
      "text/plain": "RecursiveTabularRegressionForecaster(estimator=RandomForestRegressor(n_jobs=-1, random_state=0),\n                                     window_length=12)",
      "text/html": "<style>#sk-27d7e69a-09c5-4a27-9e1f-3a5282f9d2b5 {color: black;background-color: white;}#sk-27d7e69a-09c5-4a27-9e1f-3a5282f9d2b5 pre{padding: 0;}#sk-27d7e69a-09c5-4a27-9e1f-3a5282f9d2b5 div.sk-toggleable {background-color: white;}#sk-27d7e69a-09c5-4a27-9e1f-3a5282f9d2b5 label.sk-toggleable__label {cursor: pointer;display: block;width: 100%;margin-bottom: 0;padding: 0.3em;box-sizing: border-box;text-align: center;}#sk-27d7e69a-09c5-4a27-9e1f-3a5282f9d2b5 label.sk-toggleable__label-arrow:before {content: \"▸\";float: left;margin-right: 0.25em;color: #696969;}#sk-27d7e69a-09c5-4a27-9e1f-3a5282f9d2b5 label.sk-toggleable__label-arrow:hover:before {color: black;}#sk-27d7e69a-09c5-4a27-9e1f-3a5282f9d2b5 div.sk-estimator:hover label.sk-toggleable__label-arrow:before {color: black;}#sk-27d7e69a-09c5-4a27-9e1f-3a5282f9d2b5 div.sk-toggleable__content {max-height: 0;max-width: 0;overflow: hidden;text-align: left;background-color: #f0f8ff;}#sk-27d7e69a-09c5-4a27-9e1f-3a5282f9d2b5 div.sk-toggleable__content pre {margin: 0.2em;color: black;border-radius: 0.25em;background-color: #f0f8ff;}#sk-27d7e69a-09c5-4a27-9e1f-3a5282f9d2b5 input.sk-toggleable__control:checked~div.sk-toggleable__content {max-height: 200px;max-width: 100%;overflow: auto;}#sk-27d7e69a-09c5-4a27-9e1f-3a5282f9d2b5 input.sk-toggleable__control:checked~label.sk-toggleable__label-arrow:before {content: \"▾\";}#sk-27d7e69a-09c5-4a27-9e1f-3a5282f9d2b5 div.sk-estimator input.sk-toggleable__control:checked~label.sk-toggleable__label {background-color: #d4ebff;}#sk-27d7e69a-09c5-4a27-9e1f-3a5282f9d2b5 div.sk-label input.sk-toggleable__control:checked~label.sk-toggleable__label {background-color: #d4ebff;}#sk-27d7e69a-09c5-4a27-9e1f-3a5282f9d2b5 input.sk-hidden--visually {border: 0;clip: rect(1px 1px 1px 1px);clip: rect(1px, 1px, 1px, 1px);height: 1px;margin: -1px;overflow: hidden;padding: 0;position: absolute;width: 1px;}#sk-27d7e69a-09c5-4a27-9e1f-3a5282f9d2b5 div.sk-estimator {font-family: monospace;background-color: #f0f8ff;border: 1px dotted black;border-radius: 0.25em;box-sizing: border-box;margin-bottom: 0.5em;}#sk-27d7e69a-09c5-4a27-9e1f-3a5282f9d2b5 div.sk-estimator:hover {background-color: #d4ebff;}#sk-27d7e69a-09c5-4a27-9e1f-3a5282f9d2b5 div.sk-parallel-item::after {content: \"\";width: 100%;border-bottom: 1px solid gray;flex-grow: 1;}#sk-27d7e69a-09c5-4a27-9e1f-3a5282f9d2b5 div.sk-label:hover label.sk-toggleable__label {background-color: #d4ebff;}#sk-27d7e69a-09c5-4a27-9e1f-3a5282f9d2b5 div.sk-serial::before {content: \"\";position: absolute;border-left: 1px solid gray;box-sizing: border-box;top: 2em;bottom: 0;left: 50%;}#sk-27d7e69a-09c5-4a27-9e1f-3a5282f9d2b5 div.sk-serial {display: flex;flex-direction: column;align-items: center;background-color: white;padding-right: 0.2em;padding-left: 0.2em;}#sk-27d7e69a-09c5-4a27-9e1f-3a5282f9d2b5 div.sk-item {z-index: 1;}#sk-27d7e69a-09c5-4a27-9e1f-3a5282f9d2b5 div.sk-parallel {display: flex;align-items: stretch;justify-content: center;background-color: white;}#sk-27d7e69a-09c5-4a27-9e1f-3a5282f9d2b5 div.sk-parallel::before {content: \"\";position: absolute;border-left: 1px solid gray;box-sizing: border-box;top: 2em;bottom: 0;left: 50%;}#sk-27d7e69a-09c5-4a27-9e1f-3a5282f9d2b5 div.sk-parallel-item {display: flex;flex-direction: column;position: relative;background-color: white;}#sk-27d7e69a-09c5-4a27-9e1f-3a5282f9d2b5 div.sk-parallel-item:first-child::after {align-self: flex-end;width: 50%;}#sk-27d7e69a-09c5-4a27-9e1f-3a5282f9d2b5 div.sk-parallel-item:last-child::after {align-self: flex-start;width: 50%;}#sk-27d7e69a-09c5-4a27-9e1f-3a5282f9d2b5 div.sk-parallel-item:only-child::after {width: 0;}#sk-27d7e69a-09c5-4a27-9e1f-3a5282f9d2b5 div.sk-dashed-wrapped {border: 1px dashed gray;margin: 0 0.4em 0.5em 0.4em;box-sizing: border-box;padding-bottom: 0.4em;background-color: white;position: relative;}#sk-27d7e69a-09c5-4a27-9e1f-3a5282f9d2b5 div.sk-label label {font-family: monospace;font-weight: bold;background-color: white;display: inline-block;line-height: 1.2em;}#sk-27d7e69a-09c5-4a27-9e1f-3a5282f9d2b5 div.sk-label-container {position: relative;z-index: 2;text-align: center;}#sk-27d7e69a-09c5-4a27-9e1f-3a5282f9d2b5 div.sk-container {/* jupyter's `normalize.less` sets `[hidden] { display: none; }` but bootstrap.min.css set `[hidden] { display: none !important; }` so we also need the `!important` here to be able to override the default hidden behavior on the sphinx rendered scikit-learn.org. See: https://github.com/scikit-learn/scikit-learn/issues/21755 */display: inline-block !important;position: relative;}#sk-27d7e69a-09c5-4a27-9e1f-3a5282f9d2b5 div.sk-text-repr-fallback {display: none;}</style><div id='sk-27d7e69a-09c5-4a27-9e1f-3a5282f9d2b5' class=\"sk-top-container\"><div class=\"sk-text-repr-fallback\"><pre>RecursiveTabularRegressionForecaster(estimator=RandomForestRegressor(n_jobs=-1, random_state=0),\n                                     window_length=12)</pre><b>Please rerun this cell to show the HTML repr or trust the notebook.</b></div><div class=\"sk-container\" hidden><div class=\"sk-item sk-dashed-wrapped\"><div class='sk-label-container'><div class=\"sk-label sk-toggleable\"><input class=\"sk-toggleable__control sk-hidden--visually\" id=UUID('f0c6a950-b395-4e44-a4d6-803579f8a790') type=\"checkbox\" ><label for=UUID('f0c6a950-b395-4e44-a4d6-803579f8a790') class='sk-toggleable__label sk-toggleable__label-arrow'>RecursiveTabularRegressionForecaster</label><div class=\"sk-toggleable__content\"><pre>RecursiveTabularRegressionForecaster(estimator=RandomForestRegressor(n_jobs=-1, random_state=0),\n                                     window_length=12)</pre></div></div></div><div class=\"sk-parallel\"><div class=\"sk-parallel-item\"><div class=\"sk-item\"><div class=\"sk-serial\"><div class='sk-item'><div class=\"sk-estimator sk-toggleable\"><input class=\"sk-toggleable__control sk-hidden--visually\" id=UUID('8fafc137-6dbb-4d9d-9195-8de6e112cad3') type=\"checkbox\" ><label for=UUID('8fafc137-6dbb-4d9d-9195-8de6e112cad3') class='sk-toggleable__label sk-toggleable__label-arrow'>RandomForestRegressor</label><div class=\"sk-toggleable__content\"><pre>RandomForestRegressor(n_jobs=-1, random_state=0)</pre></div></div></div></div></div></div></div></div></div></div>"
     },
     "execution_count": 137,
     "metadata": {},
     "output_type": "execute_result"
    }
   ],
   "source": [
    "forecaster.fit(y_train)"
   ],
   "metadata": {
    "collapsed": false,
    "ExecuteTime": {
     "end_time": "2024-04-10T17:11:47.045602Z",
     "start_time": "2024-04-10T17:10:56.133241Z"
    }
   },
   "id": "df449adabb0a64d7",
   "execution_count": 137
  },
  {
   "cell_type": "code",
   "outputs": [
    {
     "data": {
      "text/plain": "0.2669737593616675"
     },
     "execution_count": 204,
     "metadata": {},
     "output_type": "execute_result"
    }
   ],
   "source": [
    "y_pred = forecaster.predict(fh=fh)\n",
    "smape = MeanAbsolutePercentageError()\n",
    "smape(y_test, y_pred)  "
   ],
   "metadata": {
    "collapsed": false,
    "ExecuteTime": {
     "end_time": "2024-04-10T22:55:52.042284Z",
     "start_time": "2024-04-10T17:47:36.798566Z"
    }
   },
   "id": "5b63ebd18d48e480",
   "execution_count": 204
  }
 ],
 "metadata": {
  "kernelspec": {
   "display_name": "Python 3",
   "language": "python",
   "name": "python3"
  },
  "language_info": {
   "codemirror_mode": {
    "name": "ipython",
    "version": 2
   },
   "file_extension": ".py",
   "mimetype": "text/x-python",
   "name": "python",
   "nbconvert_exporter": "python",
   "pygments_lexer": "ipython2",
   "version": "2.7.6"
  }
 },
 "nbformat": 4,
 "nbformat_minor": 5
}
